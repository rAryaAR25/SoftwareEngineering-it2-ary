{
  "nbformat": 4,
  "nbformat_minor": 0,
  "metadata": {
    "colab": {
      "name": "FirstMeeting.ipynb",
      "provenance": [],
      "authorship_tag": "ABX9TyNj3ksAsEmQvROdnXSGY5fb",
      "include_colab_link": true
    },
    "kernelspec": {
      "name": "python3",
      "display_name": "Python 3"
    },
    "language_info": {
      "name": "python"
    }
  },
  "cells": [
    {
      "cell_type": "markdown",
      "metadata": {
        "id": "view-in-github",
        "colab_type": "text"
      },
      "source": [
        "<a href=\"https://colab.research.google.com/github/rAryaAR25/SoftwareEngineering-it2-ary/blob/main/FirstMeeting.ipynb\" target=\"_parent\"><img src=\"https://colab.research.google.com/assets/colab-badge.svg\" alt=\"Open In Colab\"/></a>"
      ]
    },
    {
      "cell_type": "code",
      "metadata": {
        "id": "nMjL31GcQCga"
      },
      "source": [
        "# variabel\n",
        "a = 2 #integer / bilangan bulat \n",
        "hewan = \"Gajah\" # String\n",
        "#untuk dasarnya tidak ada yang namanya char\n",
        "b = 'A' #string\n",
        "c = True # boolean\n",
        "d = False # boolean\n",
        "e = 2.0 # float\n",
        "f = [] #list/array\n",
        "g = {} #dictionary\n",
        "h = () #tuple"
      ],
      "execution_count": null,
      "outputs": []
    },
    {
      "cell_type": "code",
      "metadata": {
        "colab": {
          "base_uri": "https://localhost:8080/"
        },
        "id": "sG2Ge_OcSQnC",
        "outputId": "9aa2b2f9-3681-4cfd-e311-dfb9670cf0d6"
      },
      "source": [
        "# print\n",
        "print(hewan)\n",
        "print(\"singa\")\n",
        "print(2)\n",
        "print(2+3)\n",
        "print(True)\n"
      ],
      "execution_count": null,
      "outputs": [
        {
          "output_type": "stream",
          "name": "stdout",
          "text": [
            "Gajah\n",
            "singa\n",
            "2\n",
            "5\n",
            "True\n"
          ]
        }
      ]
    },
    {
      "cell_type": "code",
      "metadata": {
        "colab": {
          "base_uri": "https://localhost:8080/"
        },
        "id": "CZWfiFOySqTc",
        "outputId": "174da3a9-aec4-4b00-d802-85907f707ec3"
      },
      "source": [
        "# print 2\n",
        "print(\"Nama hewannya adalah: \" + hewan)\n",
        "print(\"Nama hewannya adalah: {}\".format(a))\n",
        "print(\"Nama : {}, Tempat tinggal : {}, Umur : {}\".format(\"Alvin\",\"Bekasi\",\"23\"))"
      ],
      "execution_count": null,
      "outputs": [
        {
          "output_type": "stream",
          "name": "stdout",
          "text": [
            "Nama hewannya adalah: Gajah\n",
            "Nama hewannya adalah: 2\n",
            "Nama : Alvin, Tempat tinggal : Bekasi, Umur : 23\n"
          ]
        }
      ]
    },
    {
      "cell_type": "code",
      "metadata": {
        "id": "NyC9kycUU2Km"
      },
      "source": [
        "Nama_Siswa = [\"Clvn\",\"Ary\",\"Bgs\",\"jak\"]"
      ],
      "execution_count": null,
      "outputs": []
    },
    {
      "cell_type": "code",
      "metadata": {
        "id": "NpKAkyhUVAMr",
        "colab": {
          "base_uri": "https://localhost:8080/"
        },
        "outputId": "0830e915-411e-448d-f8be-7e81a41757cb"
      },
      "source": [
        "List_1 = [\"bgs\"] * 5\n",
        "print(List_1)"
      ],
      "execution_count": null,
      "outputs": [
        {
          "output_type": "stream",
          "name": "stdout",
          "text": [
            "['bgs', 'bgs', 'bgs', 'bgs', 'bgs']\n"
          ]
        }
      ]
    },
    {
      "cell_type": "code",
      "metadata": {
        "colab": {
          "base_uri": "https://localhost:8080/"
        },
        "id": "WbvemGN2VJVa",
        "outputId": "36ae6389-caf1-4a81-a327-ff0f607e0be5"
      },
      "source": [
        "Nama_Siswa[0:3]"
      ],
      "execution_count": null,
      "outputs": [
        {
          "output_type": "execute_result",
          "data": {
            "text/plain": [
              "['Clvn', 'Ary', 'Bgs']"
            ]
          },
          "metadata": {},
          "execution_count": 44
        }
      ]
    },
    {
      "cell_type": "code",
      "metadata": {
        "colab": {
          "base_uri": "https://localhost:8080/"
        },
        "id": "DWWCGa-IXpGQ",
        "outputId": "832284ad-e98a-4ff6-9fec-77696fc68cbc"
      },
      "source": [
        "\n",
        "print(\"Hobi saya adalah {}\".format(\"Bermain game\"))"
      ],
      "execution_count": null,
      "outputs": [
        {
          "output_type": "stream",
          "name": "stdout",
          "text": [
            "Hobi saya adalah Bermain game\n"
          ]
        }
      ]
    },
    {
      "cell_type": "code",
      "metadata": {
        "colab": {
          "base_uri": "https://localhost:8080/",
          "height": 35
        },
        "id": "jhrA7cGpYtQ_",
        "outputId": "4883b56c-163e-44d0-8f32-37420f97cda4"
      },
      "source": [
        "List_A = [\"Mul\",\"Ar\",\"Js\"]\n",
        "List_A[-2]"
      ],
      "execution_count": null,
      "outputs": [
        {
          "output_type": "execute_result",
          "data": {
            "application/vnd.google.colaboratory.intrinsic+json": {
              "type": "string"
            },
            "text/plain": [
              "'Ar'"
            ]
          },
          "metadata": {},
          "execution_count": 28
        }
      ]
    },
    {
      "cell_type": "code",
      "metadata": {
        "colab": {
          "base_uri": "https://localhost:8080/"
        },
        "id": "HIMsvRPNaWI4",
        "outputId": "5e5fe808-b5fc-4c2f-fb30-91c93136a939"
      },
      "source": [
        "Nama_Siswa.append(\"Iki\")\n",
        "print(Nama_Siswa)"
      ],
      "execution_count": null,
      "outputs": [
        {
          "output_type": "stream",
          "name": "stdout",
          "text": [
            "['Clvn', 'Ary', 'Bgs', 'jak', 'Rey', 'Rey', 'Iki']\n"
          ]
        }
      ]
    },
    {
      "cell_type": "code",
      "metadata": {
        "colab": {
          "base_uri": "https://localhost:8080/"
        },
        "id": "jwQHYRSvgyKc",
        "outputId": "fffccd2f-9ea4-44a3-e131-e5548935720a"
      },
      "source": [
        "list = [\"A\",\"B\",\"C\",\"D\"] \n",
        "print(list)"
      ],
      "execution_count": null,
      "outputs": [
        {
          "output_type": "stream",
          "name": "stdout",
          "text": [
            "['A', 'B', 'C', 'D']\n"
          ]
        }
      ]
    },
    {
      "cell_type": "code",
      "metadata": {
        "colab": {
          "base_uri": "https://localhost:8080/"
        },
        "id": "TqYwQwZqhe1K",
        "outputId": "282e03e1-9034-48f0-af41-3fa031c122ca"
      },
      "source": [
        "print(\"itu : \" + str(0.5))"
      ],
      "execution_count": null,
      "outputs": [
        {
          "output_type": "stream",
          "name": "stdout",
          "text": [
            "itu : 0.5\n"
          ]
        }
      ]
    },
    {
      "cell_type": "code",
      "metadata": {
        "colab": {
          "base_uri": "https://localhost:8080/"
        },
        "id": "-JAaopomiULG",
        "outputId": "871389dc-8077-4791-9e96-29d8c47493d8"
      },
      "source": [
        "(2,3)"
      ],
      "execution_count": null,
      "outputs": [
        {
          "output_type": "execute_result",
          "data": {
            "text/plain": [
              "(2, 3)"
            ]
          },
          "metadata": {},
          "execution_count": 41
        }
      ]
    },
    {
      "cell_type": "code",
      "metadata": {
        "id": "LuNLOz-JmDXs",
        "colab": {
          "base_uri": "https://localhost:8080/"
        },
        "outputId": "d43ad1b6-ae40-413a-8742-aea41667f8c0"
      },
      "source": [
        "Huruf = [\"a\",\"b\",\"c\"] * 4\n",
        "print(Huruf)"
      ],
      "execution_count": null,
      "outputs": [
        {
          "output_type": "stream",
          "name": "stdout",
          "text": [
            "['a', 'b', 'c', 'a', 'b', 'c', 'a', 'b', 'c', 'a', 'b', 'c']\n"
          ]
        }
      ]
    }
  ]
}